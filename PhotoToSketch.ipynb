{
 "cells": [
  {
   "cell_type": "code",
   "execution_count": 3,
   "metadata": {},
   "outputs": [],
   "source": [
    "import cv2\n",
    "import matplotlib.pyplot as plt\n",
    "\n",
    "img=cv2.imread(\"aston_martin_dbc_concept_2013-1366x768.jpg\")\n",
    "cv2.imshow(\"original image\",img)\n",
    "cv2.waitKey(0)\n",
    "\n",
    "grey_img=cv2.cvtColor(img, cv2.COLOR_BGR2GRAY)\n",
    "invert_img=cv2.bitwise_not(grey_img)\n",
    "\n",
    "blur_img=cv2.GaussianBlur(invert_img, (111,111),0)\n",
    "invblur_img=cv2.bitwise_not(blur_img)\n",
    "sketch_img=cv2.divide(grey_img,invblur_img, scale=256.0)\n",
    "cv2.imwrite(\"sketch.png\", sketch_img)\n",
    "\n",
    "cv2.imshow(\"sketch image\",sketch_img)\n",
    "cv2.waitKey(0)\n",
    "cv2.destroyAllWindows()"
   ]
  },
  {
   "cell_type": "code",
   "execution_count": null,
   "metadata": {},
   "outputs": [],
   "source": []
  }
 ],
 "metadata": {
  "kernelspec": {
   "display_name": "Python 3",
   "language": "python",
   "name": "python3"
  },
  "language_info": {
   "codemirror_mode": {
    "name": "ipython",
    "version": 3
   },
   "file_extension": ".py",
   "mimetype": "text/x-python",
   "name": "python",
   "nbconvert_exporter": "python",
   "pygments_lexer": "ipython3",
   "version": "3.8.5"
  }
 },
 "nbformat": 4,
 "nbformat_minor": 4
}
